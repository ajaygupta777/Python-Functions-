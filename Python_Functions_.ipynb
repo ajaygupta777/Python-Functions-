{
  "nbformat": 4,
  "nbformat_minor": 0,
  "metadata": {
    "colab": {
      "provenance": [],
      "authorship_tag": "ABX9TyMbR4LNFCxB+v2VWjLLcgin",
      "include_colab_link": true
    },
    "kernelspec": {
      "name": "python3",
      "display_name": "Python 3"
    },
    "language_info": {
      "name": "python"
    }
  },
  "cells": [
    {
      "cell_type": "markdown",
      "metadata": {
        "id": "view-in-github",
        "colab_type": "text"
      },
      "source": [
        "<a href=\"https://colab.research.google.com/github/ajaygupta777/Python-Functions-/blob/main/Python_Functions_.ipynb\" target=\"_parent\"><img src=\"https://colab.research.google.com/assets/colab-badge.svg\" alt=\"Open In Colab\"/></a>"
      ]
    },
    {
      "cell_type": "markdown",
      "source": [
        "Name : Ajay Kumar Gupta"
      ],
      "metadata": {
        "id": "jn0Ypz1i1-XG"
      }
    },
    {
      "cell_type": "markdown",
      "source": [
        "Assignment 3: Python Functions"
      ],
      "metadata": {
        "id": "3_LXFZQZ2EQc"
      }
    },
    {
      "cell_type": "markdown",
      "source": [
        "Theory Questions:"
      ],
      "metadata": {
        "id": "bsIJuMhc2a-4"
      }
    },
    {
      "cell_type": "markdown",
      "source": [
        "1. What is the difference between a function and a method in Python?\n",
        "- The difference between a function and a method in Python:\n",
        "\n",
        "- Function:\n",
        "\n",
        "- A function is a block of code that performs a specific task.\n",
        "- It is defined using the def keyword.\n",
        "- It can be called independently.\n",
        "\n",
        "- Method:\n",
        "\n",
        "- A method is also a block of code that performs a specific task.\n",
        "- It is associated with an object (like a string or a list).\n",
        "- It is called using the dot operator (.) on the object.-"
      ],
      "metadata": {
        "id": "qgrM4UOs2jdk"
      }
    },
    {
      "source": [
        "def greet(name):\n",
        "  print(f\"Hello, {name}!\")\n",
        "\n",
        "greet(\"World\")  # Calling the function"
      ],
      "cell_type": "code",
      "metadata": {
        "colab": {
          "base_uri": "https://localhost:8080/"
        },
        "id": "VKnjyfHqX3bH",
        "outputId": "93008629-efeb-47c7-e9b8-41dc15d99446"
      },
      "execution_count": null,
      "outputs": [
        {
          "output_type": "stream",
          "name": "stdout",
          "text": [
            "Hello, World!\n"
          ]
        }
      ]
    },
    {
      "source": [
        "name = \"Ajay\"\n",
        "print(name.upper())  # Calling the upper() method on the name object"
      ],
      "cell_type": "code",
      "metadata": {
        "colab": {
          "base_uri": "https://localhost:8080/"
        },
        "id": "n7lSrFZqX4MV",
        "outputId": "96a0b378-09e5-4738-a3f1-b7b8bf1bcfbd"
      },
      "execution_count": null,
      "outputs": [
        {
          "output_type": "stream",
          "name": "stdout",
          "text": [
            "AJAY\n"
          ]
        }
      ]
    },
    {
      "cell_type": "markdown",
      "source": [
        "2. Explain the concept of function arguments and parameters in Python.\n",
        "- The concept of function arguments and parameters in Python:\n",
        "\n",
        "- Parameters:\n",
        "\n",
        "- Parameters are the names used when defining a function to represent the values it will receive. They act as placeholders for the actual data that will be passed to the function during execution.\n",
        "Example: In the following code snippet, name is a parameter:"
      ],
      "metadata": {
        "id": "339BBn773uOE"
      }
    },
    {
      "source": [
        "def greet(name):\n",
        "  print(f\"Hello, {name}!\")"
      ],
      "cell_type": "code",
      "metadata": {
        "id": "mmeh1lxcZAqI"
      },
      "execution_count": null,
      "outputs": []
    },
    {
      "cell_type": "markdown",
      "source": [
        "- Arguments:\n",
        "\n",
        "- Arguments are the actual values passed to a function when it is called. These values are assigned to the corresponding parameters within the function's scope.\n",
        "Example: In this case, \"World\" is the argument:"
      ],
      "metadata": {
        "id": "eZCHwsoeZNHY"
      }
    },
    {
      "source": [
        "greet(\"World\")  # Calling the function with the argument \"World\""
      ],
      "cell_type": "code",
      "metadata": {
        "colab": {
          "base_uri": "https://localhost:8080/"
        },
        "id": "9NaZbhzWZX96",
        "outputId": "c8429254-0a07-4e3a-d307-411a63e0918c"
      },
      "execution_count": null,
      "outputs": [
        {
          "output_type": "stream",
          "name": "stdout",
          "text": [
            "Hello, World!\n"
          ]
        }
      ]
    },
    {
      "cell_type": "markdown",
      "source": [
        "3. What are the different ways to define and call a function in Python?\n",
        "- Defining a Functions:\n",
        "\n",
        "- def statement: Used to create named functions with a block of code.\n",
        "- Lambda expressions: Used to create anonymous, single-expression functions.\n"
      ],
      "metadata": {
        "id": "8-xjy92H31EX"
      }
    },
    {
      "source": [
        "def greet(name):\n",
        "       print(f\"Hello, {name}!\")"
      ],
      "cell_type": "code",
      "metadata": {
        "id": "e0KTZUzoeQFo"
      },
      "execution_count": null,
      "outputs": []
    },
    {
      "source": [
        "square = lambda x: x * x"
      ],
      "cell_type": "code",
      "metadata": {
        "id": "wmJQywpxeRN4"
      },
      "execution_count": null,
      "outputs": []
    },
    {
      "cell_type": "markdown",
      "source": [
        "- Calling a Functions:\n",
        "\n",
        "- Directly by name: function_name(arguments)\n",
        "- Using a variable: Assign the function to a variable and call using the variable name.\n",
        "- Within expressions: Call the function as part of a larger expression.\n",
        "- Using call(): An alternative method to call a function"
      ],
      "metadata": {
        "id": "i1rGRgu6bJyT"
      }
    },
    {
      "source": [
        "greet(\"Alice\") # directly by name"
      ],
      "cell_type": "code",
      "metadata": {
        "id": "4a6vT8YffCq6"
      },
      "execution_count": null,
      "outputs": []
    },
    {
      "source": [
        "my_function = greet  # using a variable\n",
        "   my_function(\"Bob\")"
      ],
      "cell_type": "code",
      "metadata": {
        "id": "HTT4ckMvfDAA"
      },
      "execution_count": null,
      "outputs": []
    },
    {
      "source": [
        "result = square(5) + 10. # within expressions"
      ],
      "cell_type": "code",
      "metadata": {
        "id": "vpNvMQuyfDoI"
      },
      "execution_count": null,
      "outputs": []
    },
    {
      "source": [
        "greet.call(\"Charlie\")  # using call()"
      ],
      "cell_type": "code",
      "metadata": {
        "id": "jopzlf-tfEp6"
      },
      "execution_count": null,
      "outputs": []
    },
    {
      "cell_type": "markdown",
      "source": [
        "4. What is the purpose of the `return` statement in a Python function?\n",
        "- Purpose:\n",
        "\n",
        "- The return statement in a Python function serves two primary purposes:\n",
        "\n",
        "- Terminating the function's execution: When the return statement is encountered within a function, it immediately stops the execution of the function's code and returns control to the calling code.\n",
        "\n",
        "- Sending a value back to the caller: The return statement is often used to specify a value that the function should send back to the part of the program that called it. This value can be of any data type, such as an integer, string, list, or even another function.\n",
        "\n",
        "- Importance:\n",
        "\n",
        "The return statement is crucial for creating functions that produce useful output and allow for data flow in your program. It enables functions to perform computations, manipulate data, and return the results for further processing by the calling code.\n",
        "\n",
        "Without a return statement, a function would simply execute its code and terminate without providing any feedback or output to the caller."
      ],
      "metadata": {
        "id": "RrmXuWoT37B3"
      }
    },
    {
      "source": [
        "def add_numbers(a, b):\n",
        "  sum = a + b\n",
        "  return sum  # Returns the calculated sum\n",
        "\n",
        "result = add_numbers(3, 4)  # Calling the function and storing the returned value in 'result'\n",
        "print(result)  # Output: 7"
      ],
      "cell_type": "code",
      "metadata": {
        "colab": {
          "base_uri": "https://localhost:8080/"
        },
        "id": "hoYX_E6Qgmnh",
        "outputId": "e0f3f2b7-20b2-414c-a2b1-c13f4e409656"
      },
      "execution_count": null,
      "outputs": [
        {
          "output_type": "stream",
          "name": "stdout",
          "text": [
            "7\n"
          ]
        }
      ]
    },
    {
      "cell_type": "markdown",
      "source": [
        "5. What are iterators in Python and how do they differ from iterables?\n",
        "- Iterators:\n",
        "\n",
        "- Definition: An iterator is an object that represents a stream of data. It has a __next__ method that returns the next item in the stream. When there are no more items, it raises a StopIteration exception.\n",
        "- Creation: You can get an iterator from an iterable using the iter() function.\n",
        "- Key Feature: They maintain state and remember their position in the iteration. They can only be iterated over once.\n",
        "\n",
        "- Iterables:\n",
        "\n",
        "- Definition: An iterable is any Python object that can be looped over using a for loop. It has an __iter__ method that returns an iterator.\n",
        "- Examples: Lists, tuples, strings, dictionaries, sets, files, and generators are all iterables.\n",
        "- Key Feature: They can be iterated over multiple times.\n",
        "\n"
      ],
      "metadata": {
        "id": "ORoB0yh3Hi9i"
      }
    },
    {
      "source": [
        "my_list = [1, 2, 3]  # Iterable\n",
        "my_iterator = iter(my_list)  # Get an iterator from the iterable\n",
        "\n",
        "print(next(my_iterator))  # Output: 1\n",
        "print(next(my_iterator))  # Output: 2\n",
        "print(next(my_iterator))  # Output: 3\n",
        "# print(next(my_iterator))  # Raises StopIteration exception"
      ],
      "cell_type": "code",
      "metadata": {
        "colab": {
          "base_uri": "https://localhost:8080/"
        },
        "id": "8SMf0Dc_Iur4",
        "outputId": "ce40c1c3-a618-4603-c038-5f11e499d0c5"
      },
      "execution_count": null,
      "outputs": [
        {
          "output_type": "stream",
          "name": "stdout",
          "text": [
            "1\n",
            "2\n",
            "3\n"
          ]
        }
      ]
    },
    {
      "cell_type": "markdown",
      "source": [
        "6. Explain the concept of generators in Python and how they are defined.\n",
        "- The concept of generators in Python:\n",
        "\n",
        "- Generators are special functions that produce a sequence of values one at a time instead of generating them all at once and storing them in memory.\n",
        "- They achieve this by using the yield keyword instead of return.\n",
        "- When a generator function is called, it doesn't execute the code immediately but returns a generator object.\n",
        "- This generator object can be iterated over using a loop or other iterable methods to retrieve the values one by one.\n",
        "\n",
        "- How They Work:\n",
        "\n",
        "- When a generator function is called, it doesn't execute the code but returns a generator object.\n",
        "- When the generator object is iterated over, the function code is executed up to the first yield statement.\n",
        "- The value yielded is returned to the caller.\n",
        "- The generator's state is saved, and the next time it's iterated, execution resumes from where it left off.\n",
        "- This process continues until there are no more yield statements or the function ends."
      ],
      "metadata": {
        "id": "VsEzMJkD4FU1"
      }
    },
    {
      "source": [
        "def even_numbers(n):\n",
        "    for i in range(n):\n",
        "        if i % 2 == 0:\n",
        "            yield i\n",
        "\n",
        "gen = even_numbers(20)\n",
        "for num in gen:\n",
        "    print(num)  # Output: 0, 2, 4, 6, 8, 10, 12, 14, 16, 18"
      ],
      "cell_type": "code",
      "metadata": {
        "colab": {
          "base_uri": "https://localhost:8080/"
        },
        "id": "DN5-YSSXiEre",
        "outputId": "ea5acd11-669c-4975-c425-7af46bebac76"
      },
      "execution_count": null,
      "outputs": [
        {
          "output_type": "stream",
          "name": "stdout",
          "text": [
            "0\n",
            "2\n",
            "4\n",
            "6\n",
            "8\n",
            "10\n",
            "12\n",
            "14\n",
            "16\n",
            "18\n"
          ]
        }
      ]
    },
    {
      "cell_type": "markdown",
      "source": [
        "7. What are the advantages of using generators over regular functions?\n",
        "- The advantages of using generators over regular functions:\n",
        "\n",
        "Generators offer:\n",
        "\n",
        "- Memory Efficiency: They generate values on demand, saving memory.\n",
        "- Lazy Evaluation: They compute values only when needed, improving performance.\n",
        "- Representing Infinite Sequences: They can represent infinite sequences without memory issues.\n",
        "- Improved Performance: Can be faster, especially for I/O-bound operations.\n",
        "- Piping and Chaining: Easy to chain together for complex data processing.  "
      ],
      "metadata": {
        "id": "8mm73m1P4JWy"
      }
    },
    {
      "source": [
        "# Using a generator\n",
        "def square_generator(n):\n",
        "    for i in range(1, n + 1):\n",
        "        yield i * i\n",
        "\n",
        "# Using a regular function\n",
        "def square_function(n):\n",
        "    squares = []\n",
        "    for i in range(1, n + 1):\n",
        "        squares.append(i * i)\n",
        "    return (squares)"
      ],
      "cell_type": "code",
      "metadata": {
        "id": "QSlvnBQMjZhI"
      },
      "execution_count": null,
      "outputs": []
    },
    {
      "cell_type": "markdown",
      "source": [
        "8. What is a lambda function in Python and when is it typically used?\n",
        "- What is a Lambda Function?\n",
        "\n",
        "- A lambda function is a small, anonymous function defined using the lambda keyword.\n",
        "- It can have any number of arguments but can only have one expression.\n",
        "- The expression is evaluated and returned when the function is called.\n",
        "- Lambda functions are also known as anonymous functions because they don't have a name like regular functions defined using def.\n",
        "\n",
        "- Lambda functions are typically used for:\n",
        "\n",
        "- Short, simple operations expressible in a single expression.\n",
        "- As arguments to higher-order functions like map(), filter(), and reduce().\n",
        "- Creating function objects for later use.\n",
        "- Callbacks in event-driven programming.\n",
        "- One-time use functions.\n",
        "Essentially, they're used for concise, often anonymous, functions where a full def statement isn't necessary.\n",
        "\n"
      ],
      "metadata": {
        "id": "Po889fI_4NDf"
      }
    },
    {
      "source": [
        "square = lambda x: x * x  # Define a lambda function to square a number\n",
        "result = square(7)  # Call the lambda function\n",
        "print(result)  # Output: 49"
      ],
      "cell_type": "code",
      "metadata": {
        "colab": {
          "base_uri": "https://localhost:8080/"
        },
        "id": "-iiNenevmQ9v",
        "outputId": "293318bb-1e62-404b-a752-2094d8f38077"
      },
      "execution_count": null,
      "outputs": [
        {
          "output_type": "stream",
          "name": "stdout",
          "text": [
            "49\n"
          ]
        }
      ]
    },
    {
      "cell_type": "markdown",
      "source": [
        "9. Explain the purpose and usage of the `map()` function in Python.\n",
        "- The purpose and usage of the map() function in Python:\n",
        "\n",
        "- Purpose:\n",
        "\n",
        "The map() function applies a given function to each item of an iterable (like a list, tuple, or string) and returns an iterator containing the results.\n",
        "\n",
        "In simpler terms, it's a way to process each element of a sequence using a function without writing explicit loops.\n",
        "\n",
        "- Usage:\n",
        "\n",
        "The map() function takes two main arguments:\n",
        "\n",
        "- function: The function to be applied to each element.\n",
        "- iterable: The sequence of elements to be processed."
      ],
      "metadata": {
        "id": "bt6FPA-Y4RBa"
      }
    },
    {
      "source": [
        "map(function, iterables) #syntax"
      ],
      "cell_type": "code",
      "metadata": {
        "id": "qEiMGgM9n_VG"
      },
      "execution_count": null,
      "outputs": []
    },
    {
      "source": [
        "numbers = [1, 2, 3, 4, 5]\n",
        "squared_numbers = list(map(lambda x: x * x, numbers))  # Square each number using a lambda function\n",
        "print(squared_numbers)  # Output: [1, 4, 9, 16, 25]\n",
        "\n"
      ],
      "cell_type": "code",
      "metadata": {
        "colab": {
          "base_uri": "https://localhost:8080/"
        },
        "id": "uAn8XwZtohNS",
        "outputId": "4fe47de1-da29-4838-adeb-e88b72fbd19c"
      },
      "execution_count": null,
      "outputs": [
        {
          "output_type": "stream",
          "name": "stdout",
          "text": [
            "[1, 4, 9, 16, 25]\n"
          ]
        }
      ]
    },
    {
      "source": [
        "numbers1 = [11, 2, 3]\n",
        "numbers2 = [23, 7, 5]\n",
        "sums = list(map(lambda x, y: x + y, numbers1, numbers2))  # Add corresponding elements\n",
        "print(sums)  # Output: [34, 9, 8]"
      ],
      "cell_type": "code",
      "metadata": {
        "colab": {
          "base_uri": "https://localhost:8080/"
        },
        "id": "lcxnR6EuoqJ-",
        "outputId": "06e4fbf0-d723-42e7-ffcc-2c121b8929e7"
      },
      "execution_count": null,
      "outputs": [
        {
          "output_type": "stream",
          "name": "stdout",
          "text": [
            "[34, 9, 8]\n"
          ]
        }
      ]
    },
    {
      "cell_type": "markdown",
      "source": [
        "10. What is the difference between `map()`, `reduce()`, and `filter()` functions in Python?\n",
        "- The difference between map(), reduce(), and filter() in Python:\n",
        "\n",
        "- map(): Applies a function to all items in an input list and returns a new list with the transformed elements.\n",
        "- filter(): Creates a list of elements for which a function returns True, filtering the original list.\n",
        "- reduce(): Performs a rolling computation to sequential pairs of values in a list, reducing it to a single result.\n",
        "\n",
        "- In essence:\n",
        "\n",
        "- map() transforms.\n",
        "- filter() selects.\n",
        "- reduce() aggregates."
      ],
      "metadata": {
        "id": "a86UmNWV4Vm-"
      }
    },
    {
      "source": [
        "from functools import reduce\n",
        "   numbers = [1, 2, 3, 4, 5]\n",
        "   product = reduce(lambda x, y: x * y, numbers)\n",
        "   print(product)  # Output: 120 (1 * 2 * 3 * 4 * 5)"
      ],
      "cell_type": "code",
      "metadata": {
        "id": "TITf_kI8LmBj"
      },
      "execution_count": null,
      "outputs": []
    },
    {
      "cell_type": "markdown",
      "source": [
        "11. Using pen & Paper write the internal mechanism for sum operation using  reduce function on this given\n",
        "list:[47,11,42,13];\n",
        "- Explanation of how reduce calculates the sum of [47, 11, 42, 13]:\n",
        "\n",
        "- reduce starts with an initial value (the first element, 47) and an accumulator.\n",
        "- It iterates through the remaining elements (11, 42, 13).\n",
        "- For each element, it applies the sum function: accumulator = accumulator + element.\n",
        "- The final accumulator value is the result:\n",
        "- 47 + 11 = 58\n",
        "- 58 + 42 = 100\n",
        "- 100 + 13 = 113\n",
        "Therefore, reduce returns 113 as the sum of the list."
      ],
      "metadata": {
        "id": "gzOdxDNz4dGl"
      }
    },
    {
      "source": [
        "from functools import reduce\n",
        "\n",
        "numbers = [47, 11, 42, 13]\n",
        "sum_of_numbers = reduce(lambda x, y: x + y, numbers)\n",
        "print(sum_of_numbers)  # Output: 113"
      ],
      "cell_type": "code",
      "metadata": {
        "id": "yQH-SCxWMECO"
      },
      "execution_count": null,
      "outputs": []
    },
    {
      "cell_type": "markdown",
      "source": [
        "Practical Questions:"
      ],
      "metadata": {
        "id": "golrESx_MYiv"
      }
    },
    {
      "cell_type": "markdown",
      "source": [
        "1. Write a Python function that takes a list of numbers as input and returns the sum of all even numbers in\n",
        "the list."
      ],
      "metadata": {
        "id": "e9e9bm1PMdpM"
      }
    },
    {
      "source": [
        "def sum_of_even_numbers(numbers):\n",
        "  \"\"\"\n",
        "  Calculates the sum of all even numbers in a list.\n",
        "\n",
        "  Args:\n",
        "    numbers: A list of numbers.\n",
        "\n",
        "  Returns:\n",
        "    The sum of all even numbers in the list.\n",
        "  \"\"\"\n",
        "  even_sum = 0\n",
        "  for number in numbers:\n",
        "    if number % 2 == 0:  # Check if the number is even\n",
        "      even_sum += number  # Add even number to the sum\n",
        "  return even_sum\n",
        "\n",
        "# Example usage:\n",
        "numbers = [1, 2, 3, 4, 5, 6, 7, 8, 9, 10]\n",
        "even_sum = sum_of_even_numbers(numbers)\n",
        "print(f\"The sum of even numbers in the list is: {even_sum}\")"
      ],
      "cell_type": "code",
      "metadata": {
        "colab": {
          "base_uri": "https://localhost:8080/"
        },
        "id": "5zZwNvqrORlq",
        "outputId": "194931f3-8997-44ac-8173-202e8b9e39b4"
      },
      "execution_count": null,
      "outputs": [
        {
          "output_type": "stream",
          "name": "stdout",
          "text": [
            "The sum of even numbers in the list is: 30\n"
          ]
        }
      ]
    },
    {
      "cell_type": "markdown",
      "source": [
        "2. Create a Python function that accepts a string and returns the reverse of that string."
      ],
      "metadata": {
        "id": "Lkk2l5ZjMxTD"
      }
    },
    {
      "source": [
        "def reverse_string(text):\n",
        "  \"\"\"\n",
        "  Reverses a given string.\n",
        "\n",
        "  Args:\n",
        "    text: The string to be reversed.\n",
        "\n",
        "  Returns:\n",
        "    The reversed string.\n",
        "  \"\"\"\n",
        "  return text[::-1]\n",
        "\n",
        "# Example usage\n",
        "string = \"Ajay, Gupta\"\n",
        "reversed_string = reverse_string(string)\n",
        "print(f\"Reversed string: {reversed_string}\")\n",
        "# To see the output"
      ],
      "cell_type": "code",
      "metadata": {
        "colab": {
          "base_uri": "https://localhost:8080/"
        },
        "id": "hPKARMz-PIwK",
        "outputId": "17c9e116-b1ba-49e1-b7bb-b257c4c9ca68"
      },
      "execution_count": null,
      "outputs": [
        {
          "output_type": "stream",
          "name": "stdout",
          "text": [
            "Reversed string: atpuG ,yajA\n"
          ]
        }
      ]
    },
    {
      "cell_type": "markdown",
      "source": [
        "3. Implement a Python function that takes a list of integers and returns a new list containing the squares of\n",
        "each number."
      ],
      "metadata": {
        "id": "gI2bO5VaM2-D"
      }
    },
    {
      "source": [
        "def square_numbers(numbers):\n",
        "  \"\"\"\n",
        "  Squares each number in a list.\n",
        "\n",
        "  Args:\n",
        "    numbers: A list of integers.\n",
        "\n",
        "  Returns:\n",
        "    A new list containing the squares of each number.\n",
        "  \"\"\"\n",
        "  squared_numbers = []\n",
        "  for number in numbers:\n",
        "    squared_numbers.append(number * number)  # Square the number and add it to the new list\n",
        "  return squared_numbers\n",
        "\n",
        "# Example usage:\n",
        "numbers = [2, 4, 6, 8, 10]\n",
        "squared_numbers = square_numbers(numbers)\n",
        "print(f\"Original list: {numbers}\")\n",
        "print(f\"Squared list: {squared_numbers}\")\n",
        "# To see the output"
      ],
      "cell_type": "code",
      "metadata": {
        "colab": {
          "base_uri": "https://localhost:8080/"
        },
        "id": "FItsLVagQV9x",
        "outputId": "b24fe92b-a52a-47f9-a3f9-1a6c3147eb28"
      },
      "execution_count": null,
      "outputs": [
        {
          "output_type": "stream",
          "name": "stdout",
          "text": [
            "Original list: [2, 4, 6, 8, 10]\n",
            "Squared list: [4, 16, 36, 64, 100]\n"
          ]
        }
      ]
    },
    {
      "cell_type": "markdown",
      "source": [
        "4. Write a Python function that checks if a given number is prime or not from 1 to 200."
      ],
      "metadata": {
        "id": "2Q73ZZFEM9u4"
      }
    },
    {
      "source": [
        "def is_prime(number):\n",
        "  \"\"\"\n",
        "  Checks if a given number is prime or not.\n",
        "\n",
        "  Args:\n",
        "    number: The number to check.\n",
        "\n",
        "  Returns:\n",
        "    True if the number is prime, False otherwise.\n",
        "  \"\"\"\n",
        "  if number <= 1:\n",
        "    return False  # Numbers less than or equal to 1 are not prime\n",
        "  for i in range(2, int(number**0.5) + 1):\n",
        "    if number % i == 0:\n",
        "      return False  # If divisible by any number, it's not prime\n",
        "  return True  # If not divisible by any number, it's prime\n",
        "\n",
        "# Example usage:\n",
        "for num in range(1, 201):\n",
        "  if is_prime(num):\n",
        "    print(f\"{num} is a prime number\")\n",
        "# To see the output"
      ],
      "cell_type": "code",
      "metadata": {
        "colab": {
          "base_uri": "https://localhost:8080/"
        },
        "id": "KyCPzDOjRI_K",
        "outputId": "47586fd8-538f-475f-c3c2-ea5aa16ff4a5"
      },
      "execution_count": null,
      "outputs": [
        {
          "output_type": "stream",
          "name": "stdout",
          "text": [
            "2 is a prime number\n",
            "3 is a prime number\n",
            "5 is a prime number\n",
            "7 is a prime number\n",
            "11 is a prime number\n",
            "13 is a prime number\n",
            "17 is a prime number\n",
            "19 is a prime number\n",
            "23 is a prime number\n",
            "29 is a prime number\n",
            "31 is a prime number\n",
            "37 is a prime number\n",
            "41 is a prime number\n",
            "43 is a prime number\n",
            "47 is a prime number\n",
            "53 is a prime number\n",
            "59 is a prime number\n",
            "61 is a prime number\n",
            "67 is a prime number\n",
            "71 is a prime number\n",
            "73 is a prime number\n",
            "79 is a prime number\n",
            "83 is a prime number\n",
            "89 is a prime number\n",
            "97 is a prime number\n",
            "101 is a prime number\n",
            "103 is a prime number\n",
            "107 is a prime number\n",
            "109 is a prime number\n",
            "113 is a prime number\n",
            "127 is a prime number\n",
            "131 is a prime number\n",
            "137 is a prime number\n",
            "139 is a prime number\n",
            "149 is a prime number\n",
            "151 is a prime number\n",
            "157 is a prime number\n",
            "163 is a prime number\n",
            "167 is a prime number\n",
            "173 is a prime number\n",
            "179 is a prime number\n",
            "181 is a prime number\n",
            "191 is a prime number\n",
            "193 is a prime number\n",
            "197 is a prime number\n",
            "199 is a prime number\n"
          ]
        }
      ]
    },
    {
      "cell_type": "markdown",
      "source": [
        "5. Create an iterator class in Python that generates the Fibonacci sequence up to a specified number of\n",
        "terms."
      ],
      "metadata": {
        "id": "bgGcra0FNM3c"
      }
    },
    {
      "source": [
        "class FibonacciIterator:\n",
        "    \"\"\"\n",
        "    An iterator class for generating the Fibonacci sequence.\n",
        "    \"\"\"\n",
        "\n",
        "    def __init__(self, max_terms):\n",
        "        \"\"\"\n",
        "        Initializes the iterator with the maximum number of terms.\n",
        "\n",
        "        Args:\n",
        "            max_terms: The maximum number of Fibonacci terms to generate.\n",
        "        \"\"\"\n",
        "        self.max_terms = max_terms\n",
        "        self.count = 0  # Current term count\n",
        "        self.a, self.b = 0, 1  # Initial Fibonacci values\n",
        "\n",
        "    def __iter__(self):\n",
        "        \"\"\"\n",
        "        Returns the iterator object itself.\n",
        "        \"\"\"\n",
        "        return self\n",
        "\n",
        "    def __next__(self):\n",
        "        \"\"\"\n",
        "        Generates the next Fibonacci term.\n",
        "\n",
        "        Raises:\n",
        "            StopIteration: When the maximum number of terms is reached.\n",
        "        \"\"\"\n",
        "        if self.count >= self.max_terms:\n",
        "            raise StopIteration\n",
        "\n",
        "        result = self.a\n",
        "        self.a, self.b = self.b, self.a + self.b  # Update Fibonacci values\n",
        "        self.count += 1  # Increment term count\n",
        "        return result\n",
        "\n",
        "# Example usage\n",
        "fib_iter = FibonacciIterator(7)\n",
        "for num in fib_iter:\n",
        "    print(num)  # To see the output"
      ],
      "cell_type": "code",
      "metadata": {
        "colab": {
          "base_uri": "https://localhost:8080/"
        },
        "id": "krepoeAvRmeQ",
        "outputId": "db6993e9-298b-4722-bd25-0cc62fca1637"
      },
      "execution_count": null,
      "outputs": [
        {
          "output_type": "stream",
          "name": "stdout",
          "text": [
            "0\n",
            "1\n",
            "1\n",
            "2\n",
            "3\n",
            "5\n",
            "8\n"
          ]
        }
      ]
    },
    {
      "cell_type": "markdown",
      "source": [
        "6. Write a generator function in Python that yields the powers of 2 up to a given exponent."
      ],
      "metadata": {
        "id": "Xy-A-qQ6NUF3"
      }
    },
    {
      "source": [
        "def powers_of_2(exponent):\n",
        "  \"\"\"\n",
        "  Generates the powers of 2 up to a given exponent.\n",
        "\n",
        "  Args:\n",
        "    exponent: The maximum exponent.\n",
        "\n",
        "  Yields:\n",
        "    The powers of 2.\n",
        "  \"\"\"\n",
        "  for i in range(exponent + 1):\n",
        "    yield 2 ** i\n",
        "\n",
        "# Example usage\n",
        "for power in powers_of_2(7):\n",
        "  print(power)  # To see the output"
      ],
      "cell_type": "code",
      "metadata": {
        "colab": {
          "base_uri": "https://localhost:8080/"
        },
        "id": "6APxbyXbSESU",
        "outputId": "31831ea8-e327-4fc2-a286-8958a8ed4424"
      },
      "execution_count": null,
      "outputs": [
        {
          "output_type": "stream",
          "name": "stdout",
          "text": [
            "1\n",
            "2\n",
            "4\n",
            "8\n",
            "16\n",
            "32\n",
            "64\n",
            "128\n"
          ]
        }
      ]
    },
    {
      "cell_type": "markdown",
      "source": [
        "7. Implement a generator function that reads a file line by line and yields each line as a string."
      ],
      "metadata": {
        "id": "rgdQ9TsaNY5s"
      }
    },
    {
      "source": [
        "def read_file_line_by_line(file_path):\n",
        "  \"\"\"\n",
        "  Reads a file line by line and yields each line as a string.\n",
        "\n",
        "  Args:\n",
        "    file_path: The path to the file.\n",
        "\n",
        "  Yields:\n",
        "    Each line of the file as a string.\n",
        "  \"\"\"\n",
        "  with open(file_path, 'r') as file:\n",
        "    for line in file:\n",
        "      yield line.strip()  # Strip newline characters\n",
        "\n",
        "# Example usage\n",
        "file_path = 'my_file.txt'  # Replace with your file path\n",
        "for line in read_file_line_by_line(file_path):\n",
        "  print(line)"
      ],
      "cell_type": "code",
      "metadata": {
        "id": "qcQBzjBuTKRb"
      },
      "execution_count": null,
      "outputs": []
    },
    {
      "cell_type": "markdown",
      "source": [
        "8. Use a lambda function in Python to sort a list of tuples based on the second element of each tuple."
      ],
      "metadata": {
        "id": "N3Kt7RDENerh"
      }
    },
    {
      "source": [
        "data = [('apple', 3), ('banana', 1), ('orange', 2)]\n",
        "sorted_data = sorted(data, key=lambda item: item[1])\n",
        "print(sorted_data)  # Output: [('banana', 1), ('orange', 2), ('apple', 3)]"
      ],
      "cell_type": "code",
      "metadata": {
        "colab": {
          "base_uri": "https://localhost:8080/"
        },
        "id": "YYkCE3tNTd-o",
        "outputId": "d89b07ec-ea0f-4c4f-eada-dd936036e720"
      },
      "execution_count": null,
      "outputs": [
        {
          "output_type": "stream",
          "name": "stdout",
          "text": [
            "[('banana', 1), ('orange', 2), ('apple', 3)]\n"
          ]
        }
      ]
    },
    {
      "cell_type": "markdown",
      "source": [
        "9. Write a Python program that uses `map()` to convert a list of temperatures from Celsius to Fahrenheit."
      ],
      "metadata": {
        "id": "g1rAL78CNm2a"
      }
    },
    {
      "source": [
        "def celsius_to_fahrenheit(celsius):\n",
        "  \"\"\"Converts Celsius to Fahrenheit.\"\"\"\n",
        "  return (celsius * 9/5) + 32\n",
        "\n",
        "# List of temperatures in Celsius\n",
        "celsius_temps = [0, 10, 20, 30, 40, 50, 60, 70, 80, 90, 100]\n",
        "\n",
        "# Use map() to convert to Fahrenheit\n",
        "fahrenheit_temps = list(map(celsius_to_fahrenheit, celsius_temps))\n",
        "\n",
        "# Print the results\n",
        "print(f\"Celsius temperatures: {celsius_temps}\")\n",
        "print(f\"Fahrenheit temperatures: {fahrenheit_temps}\")\n",
        "# To see the output"
      ],
      "cell_type": "code",
      "metadata": {
        "colab": {
          "base_uri": "https://localhost:8080/"
        },
        "id": "-3yYA6JgTsX2",
        "outputId": "dbf3e3ca-ffd2-4957-ba98-d839c9be4d86"
      },
      "execution_count": null,
      "outputs": [
        {
          "output_type": "stream",
          "name": "stdout",
          "text": [
            "Celsius temperatures: [0, 10, 20, 30, 40, 50, 60, 70, 80, 90, 100]\n",
            "Fahrenheit temperatures: [32.0, 50.0, 68.0, 86.0, 104.0, 122.0, 140.0, 158.0, 176.0, 194.0, 212.0]\n"
          ]
        }
      ]
    },
    {
      "cell_type": "markdown",
      "source": [
        "10. Create a Python program that uses `filter()` to remove all the vowels from a given string."
      ],
      "metadata": {
        "id": "x_b0C2GeNr7O"
      }
    },
    {
      "source": [
        "def remove_vowels(string):\n",
        "  \"\"\"Removes all vowels from a given string.\n",
        "\n",
        "  Args:\n",
        "    string: The input string.\n",
        "\n",
        "  Returns:\n",
        "    The string with vowels removed.\n",
        "  \"\"\"\n",
        "  vowels = \"aeiouAEIOU\"\n",
        "  return \"\".join(filter(lambda char: char not in vowels, string))\n",
        "\n",
        "# Example usage\n",
        "string = \"Hello, World!\"\n",
        "string_without_vowels = remove_vowels(string)\n",
        "print(f\"Original string: {string}\")\n",
        "print(f\"String without vowels: {string_without_vowels}\")\n",
        "# To see the output"
      ],
      "cell_type": "code",
      "metadata": {
        "colab": {
          "base_uri": "https://localhost:8080/"
        },
        "id": "zHkbMujJUNFy",
        "outputId": "cafaedc5-fd17-4bc6-bdf9-2c3cd2dd3c98"
      },
      "execution_count": null,
      "outputs": [
        {
          "output_type": "stream",
          "name": "stdout",
          "text": [
            "Original string: Hello, World!\n",
            "String without vowels: Hll, Wrld!\n"
          ]
        }
      ]
    },
    {
      "cell_type": "markdown",
      "source": [
        " 11. Imagine an accounting routine used in a book shop. It works on a list with sublists, which look like this:\n",
        "\n",
        "- Order Number.        : 34587, 98762, 77226, 88112\n",
        "- Book Title and Author: Learning python, Mark Lutz, Programming python, Mark Lutz, Head first python, Paul Barry, Einfuhrung in python3, Bernd Klein\n",
        "- Quantity            : 4, 5, 3, 3\n",
        "- Price per Item      : 40.95, 56.80, 32.95, 24.99\n",
        "\n",
        "\n",
        "Write a Python program, which returns a list with 2-tuples. Each tuple consists of the order number and the\n",
        "product of the price per item and the quantity. The product should be increased by 10,- € if the value of the\n",
        "order is smaller than 100,00 €.\n",
        "\n",
        "Write a Python program using lambda and map"
      ],
      "metadata": {
        "id": "u48S70zVUbXD"
      }
    },
    {
      "source": [
        "orders = [\n",
        "    [34587, \"Learning Python, Mark Lutz\", 4, 40.95],\n",
        "    [98762, \"Programming Python, Mark Lutz\", 5, 56.80],\n",
        "    [77226, \"Head First Python, Paul Barry\", 3, 32.95],\n",
        "    [88112, \"Einführung in Python3, Bernd Klein\", 3, 24.99]\n",
        "]\n",
        "\n",
        "invoice_totals = list(map(\n",
        "    lambda order: (order[0], order[2] * order[3] + (10 if order[2] * order[3] < 100 else 0)),\n",
        "    orders\n",
        "))\n",
        "\n",
        "print(invoice_totals)  # To see the output"
      ],
      "cell_type": "code",
      "metadata": {
        "colab": {
          "base_uri": "https://localhost:8080/"
        },
        "id": "W0F1dBFGXVCD",
        "outputId": "4afcdfd8-b775-4519-8db8-aa9c56fe74cc"
      },
      "execution_count": null,
      "outputs": [
        {
          "output_type": "stream",
          "name": "stdout",
          "text": [
            "[(34587, 163.8), (98762, 284.0), (77226, 108.85000000000001), (88112, 84.97)]\n"
          ]
        }
      ]
    },
    {
      "cell_type": "markdown",
      "source": [],
      "metadata": {
        "id": "s_utZ7yWNw_J"
      }
    },
    {
      "cell_type": "markdown",
      "source": [],
      "metadata": {
        "id": "uuSuq2KN4q56"
      }
    },
    {
      "cell_type": "markdown",
      "source": [],
      "metadata": {
        "id": "znUEXHBcXppv"
      }
    }
  ]
}